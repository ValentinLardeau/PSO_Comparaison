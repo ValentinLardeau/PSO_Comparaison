{
 "cells": [
  {
   "cell_type": "code",
   "execution_count": 5,
   "id": "f6b87d73",
   "metadata": {},
   "outputs": [],
   "source": [
    "import numpy as np\n",
    "import pandas as pd"
   ]
  },
  {
   "cell_type": "code",
   "execution_count": 6,
   "id": "30151bcd",
   "metadata": {},
   "outputs": [],
   "source": [
    "def sigmoid_derivative(x):\n",
    "    return x * (1 - x)\n",
    "\n",
    "def sigmoid(x):\n",
    "    x = np.clip(x, 0, 1)\n",
    "    return 1 / (1 + np.exp(-x))\n",
    "\n",
    "def relu(x):\n",
    "    return np.maximum(0, x)\n",
    "\n",
    "def tanh(x):\n",
    "    return (np.exp(x) - np.exp(-x)) / (np.exp(x) + np.exp(-x))\n",
    "\n",
    "def softmax(x):\n",
    "    exp_x = np.exp(x)\n",
    "\n",
    "    sum_exp_x = np.sum(exp_x)\n",
    "    softmax_values = exp_x / sum_exp_x\n",
    "\n",
    "    return softmax_values\n",
    "\n",
    "class ANN_Network:\n",
    "    def __init__(self, input_size, hidden_sizes, output_size):\n",
    "        self.input_size = input_size\n",
    "        self.hidden_sizes = hidden_sizes\n",
    "        self.output_size = output_size\n",
    "        # Initialize the weight matrices\n",
    "        \n",
    "        self.W = [np.random.randn(self.input_size, self.hidden_sizes[0])]\n",
    "        \n",
    "        for i in range(len(self.hidden_sizes) - 1):\n",
    "            self.W.append(np.random.randn(self.hidden_sizes[i], self.hidden_sizes[i + 1]))\n",
    "            \n",
    "        self.W.append(np.random.randn(self.hidden_sizes[-1], self.output_size))\n",
    "                \n",
    "    def weights_num(self):\n",
    "        n_dim = 0\n",
    "        for w in self.W:\n",
    "            n_dim += w.size\n",
    "        return n_dim\n",
    "    \n",
    "    \n",
    "    def forward_propagation(self, X):\n",
    "        layer_input = X\n",
    "        for i in range(len(self.hidden_sizes)):\n",
    "            \n",
    "            layer_output = np.dot(layer_input, self.W[i]) \n",
    "            layer_output = sigmoid(layer_output)\n",
    "            layer_input = layer_output\n",
    "            \n",
    "        output_layer = np.dot(layer_input, self.W[-1])\n",
    "        \n",
    "        probabilities = sigmoid(output_layer)\n",
    "        \n",
    "        return probabilities\n",
    "    \n",
    "    def predict(self, X):\n",
    "        return self.forward_propagation(X)\n",
    "    "
   ]
  },
  {
   "cell_type": "code",
   "execution_count": 7,
   "id": "9c8eb52e",
   "metadata": {},
   "outputs": [],
   "source": [
    "def Assign_weight(weights):\n",
    "    nn.W = []\n",
    "    start_index=0\n",
    "    end_index=0\n",
    "    for i in range(len(nn.hidden_sizes) + 1):\n",
    "        if i == 0:\n",
    "            start_index = i * nn.input_size\n",
    "            end_index = nn.input_size * nn.hidden_sizes[0]\n",
    "            reshaped_weights = weights[start_index:end_index].reshape(nn.input_size,nn.hidden_sizes[0])\n",
    "            nn.W.append(reshaped_weights)\n",
    "        elif i!= len(nn.hidden_sizes):\n",
    "            start_index=end_index\n",
    "            end_index=start_index+nn.hidden_sizes[i-1]*nn.hidden_sizes[i]\n",
    "            reshaped_weights=weights[start_index:end_index].reshape(nn.hidden_sizes[i-1],nn.hidden_sizes[i])\n",
    "            nn.W.append(reshaped_weights)\n",
    "        else:\n",
    "            nn.W.append(weights[-(nn.hidden_sizes[-1] * nn.output_size):].reshape(nn.hidden_sizes[-1], nn.output_size))\n",
    "    return nn.W"
   ]
  },
  {
   "cell_type": "code",
   "execution_count": 8,
   "id": "d1e9a3c3",
   "metadata": {},
   "outputs": [],
   "source": [
    "def obj_func(weights):\n",
    "    nn.W = Assign_weight(weights)\n",
    "    outputs = nn.predict(X)\n",
    "    Y_pred = (outputs > 0.5).astype(int)\n",
    "    acc = np.mean(Y_pred == Y)\n",
    "    return -acc"
   ]
  },
  {
   "cell_type": "code",
   "execution_count": 9,
   "id": "354cb4f3",
   "metadata": {},
   "outputs": [],
   "source": [
    "ann_data = pd.read_csv('authentication.csv',header=None)\n",
    "X = ann_data.iloc[:, :4].values\n",
    "Y = ann_data.iloc[:, 4].values"
   ]
  },
  {
   "cell_type": "code",
   "execution_count": null,
   "id": "f31907f6",
   "metadata": {},
   "outputs": [],
   "source": []
  }
 ],
 "metadata": {
  "kernelspec": {
   "display_name": "Python 3 (ipykernel)",
   "language": "python",
   "name": "python3"
  },
  "language_info": {
   "codemirror_mode": {
    "name": "ipython",
    "version": 3
   },
   "file_extension": ".py",
   "mimetype": "text/x-python",
   "name": "python",
   "nbconvert_exporter": "python",
   "pygments_lexer": "ipython3",
   "version": "3.11.4"
  }
 },
 "nbformat": 4,
 "nbformat_minor": 5
}
